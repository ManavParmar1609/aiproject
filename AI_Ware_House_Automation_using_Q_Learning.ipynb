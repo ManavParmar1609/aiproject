{
 "cells": [
  {
   "cell_type": "code",
   "execution_count": 1,
   "metadata": {
    "colab": {},
    "colab_type": "code",
    "id": "DGlatdR4jBpK"
   },
   "outputs": [],
   "source": [
    "import numpy as np"
   ]
  },
  {
   "cell_type": "code",
   "execution_count": 2,
   "metadata": {
    "colab": {},
    "colab_type": "code",
    "id": "4xzdvNFBja81"
   },
   "outputs": [],
   "source": [
    "gamma=0.6\n",
    "alpha=1"
   ]
  },
  {
   "cell_type": "code",
   "execution_count": 3,
   "metadata": {
    "colab": {},
    "colab_type": "code",
    "id": "LCYO_uIzjbq6"
   },
   "outputs": [
    {
     "name": "stdout",
     "output_type": "stream",
     "text": [
      "{'A': 0, 'B': 1, 'C': 2, 'D': 3, 'E': 4, 'F': 5, 'G': 6, 'H': 7, 'I': 8, 'J': 9, 'K': 10, 'L': 11}\n"
     ]
    }
   ],
   "source": [
    "location_to_state = {'A':0,'B':1,'C':2,'D':3,'E':4,'F':5,'G':6,'H':7,'I':8,'J':9,'K':10,'L':11}\n",
    "print(location_to_state)"
   ]
  },
  {
   "cell_type": "code",
   "execution_count": 4,
   "metadata": {
    "colab": {},
    "colab_type": "code",
    "id": "D98KqiQjjfA1"
   },
   "outputs": [],
   "source": [
    "reward= np.array([\n",
    "                    [0,0,0,1,0,0,0,0,0,0,0,0],\n",
    "                    [0,1000,1,0,0,0,0,0,0,0,0,0],\n",
    "                    [0,1,0,0,0,1,0,0,0,0,0,0],\n",
    "                    [1,0,0,0,1,0,1,0,0,0,0,0],\n",
    "                    [0,0,0,1,0,1,0,0,0,0,0,0],\n",
    "                    [0,0,1,0,1,0,0,0,1,0,0,0],\n",
    "                    [0,0,0,1,0,0,0,1,0,0,0,0],\n",
    "                    [0,0,0,0,0,0,1,0,0,0,1,0],\n",
    "                    [0,0,0,0,0,1,0,0,0,0,0,1],\n",
    "                    [0,0,0,0,0,0,0,0,0,0,1,0],\n",
    "                    [0,0,0,0,0,0,0,0,0,1,0,1],\n",
    "                    [0,0,0,0,0,0,0,0,1,0,1,0]\n",
    "                    ])"
   ]
  },
  {
   "cell_type": "code",
   "execution_count": 5,
   "metadata": {
    "colab": {},
    "colab_type": "code",
    "id": "-vC5_7h0jcTG"
   },
   "outputs": [
    {
     "name": "stdout",
     "output_type": "stream",
     "text": [
      "[[0. 0. 0. 0. 0. 0. 0. 0. 0. 0. 0. 0.]\n",
      " [0. 0. 0. 0. 0. 0. 0. 0. 0. 0. 0. 0.]\n",
      " [0. 0. 0. 0. 0. 0. 0. 0. 0. 0. 0. 0.]\n",
      " [0. 0. 0. 0. 0. 0. 0. 0. 0. 0. 0. 0.]\n",
      " [0. 0. 0. 0. 0. 0. 0. 0. 0. 0. 0. 0.]\n",
      " [0. 0. 0. 0. 0. 0. 0. 0. 0. 0. 0. 0.]\n",
      " [0. 0. 0. 0. 0. 0. 0. 0. 0. 0. 0. 0.]\n",
      " [0. 0. 0. 0. 0. 0. 0. 0. 0. 0. 0. 0.]\n",
      " [0. 0. 0. 0. 0. 0. 0. 0. 0. 0. 0. 0.]\n",
      " [0. 0. 0. 0. 0. 0. 0. 0. 0. 0. 0. 0.]\n",
      " [0. 0. 0. 0. 0. 0. 0. 0. 0. 0. 0. 0.]\n",
      " [0. 0. 0. 0. 0. 0. 0. 0. 0. 0. 0. 0.]]\n"
     ]
    }
   ],
   "source": [
    "Q= np.array(np.zeros([12,12]))\n",
    "print(Q)"
   ]
  },
  {
   "cell_type": "code",
   "execution_count": 6,
   "metadata": {
    "colab": {},
    "colab_type": "code",
    "id": "BE20DrcHjcMn"
   },
   "outputs": [],
   "source": [
    "for x in range(1000):\n",
    "    current_location=np.random.randint(0,12)\n",
    "    next_actions= []\n",
    "    for y in range(12):\n",
    "        if reward[current_location, y]>0:\n",
    "            next_actions.append(y)\n",
    "    next_location=np.random.choice(next_actions)\n",
    "    temp_difference= reward[current_location,next_location]+gamma*Q[next_location, np.argmax(Q[next_location,])]-Q[current_location,next_location]\n",
    "    Q[current_location,next_location]=Q[current_location,next_location]+alpha*temp_difference\n",
    "        "
   ]
  },
  {
   "cell_type": "code",
   "execution_count": 7,
   "metadata": {
    "colab": {
     "base_uri": "https://localhost:8080/",
     "height": 212
    },
    "colab_type": "code",
    "id": "chOZSEaMjcGS",
    "outputId": "2fd7e692-9885-49a5-c44b-25cf6ac0a816"
   },
   "outputs": [
    {
     "name": "stdout",
     "output_type": "stream",
     "text": [
      "[[   0    0    0  196    0    0    0    0    0    0    0    0]\n",
      " [   0 2499  901    0    0    0    0    0    0    0    0    0]\n",
      " [   0 1500    0    0    0  541    0    0    0    0    0    0]\n",
      " [ 119    0    0    0  326    0  119    0    0    0    0    0]\n",
      " [   0    0    0  196    0  541    0    0    0    0    0    0]\n",
      " [   0    0  901    0  326    0    0    0  326    0    0    0]\n",
      " [   0    0    0  196    0    0    0   72    0    0    0    0]\n",
      " [   0    0    0    0    0    0  119    0    0    0  119    0]\n",
      " [   0    0    0    0    0  541    0    0    0    0    0  196]\n",
      " [   0    0    0    0    0    0    0    0    0    0  119    0]\n",
      " [   0    0    0    0    0    0    0    0    0   72    0  196]\n",
      " [   0    0    0    0    0    0    0    0  326    0  119    0]]\n"
     ]
    }
   ],
   "source": [
    "print(Q.astype(int))"
   ]
  },
  {
   "cell_type": "code",
   "execution_count": 8,
   "metadata": {
    "colab": {},
    "colab_type": "code",
    "id": "662QKeczjb-1"
   },
   "outputs": [],
   "source": [
    "state_to_location = {state: location for location, state in location_to_state.items()}\n"
   ]
  },
  {
   "cell_type": "code",
   "execution_count": 9,
   "metadata": {
    "colab": {
     "base_uri": "https://localhost:8080/",
     "height": 212
    },
    "colab_type": "code",
    "id": "J4C3dt-3krrv",
    "outputId": "c2296814-aee4-4929-a43f-7e0dcdfbcca6"
   },
   "outputs": [
    {
     "data": {
      "text/plain": [
       "{0: 'A',\n",
       " 1: 'B',\n",
       " 2: 'C',\n",
       " 3: 'D',\n",
       " 4: 'E',\n",
       " 5: 'F',\n",
       " 6: 'G',\n",
       " 7: 'H',\n",
       " 8: 'I',\n",
       " 9: 'J',\n",
       " 10: 'K',\n",
       " 11: 'L'}"
      ]
     },
     "execution_count": 9,
     "metadata": {},
     "output_type": "execute_result"
    }
   ],
   "source": [
    "state_to_location"
   ]
  },
  {
   "cell_type": "code",
   "execution_count": 10,
   "metadata": {
    "colab": {},
    "colab_type": "code",
    "id": "Y1FpsR0EkHKv"
   },
   "outputs": [],
   "source": [
    "def route(starting_location, ending_location):\n",
    "    route = [starting_location]\n",
    "    next_location = starting_location\n",
    "    while (next_location != ending_location):\n",
    "        starting_state = location_to_state[starting_location]\n",
    "        next_state = np.argmax(Q[starting_state,])\n",
    "        next_location = state_to_location[next_state]\n",
    "        route.append(next_location)\n",
    "        starting_location = next_location\n",
    "    return route    \n"
   ]
  },
  {
   "cell_type": "code",
   "execution_count": null,
   "metadata": {
    "colab": {
     "base_uri": "https://localhost:8080/",
     "height": 33
    },
    "colab_type": "code",
    "id": "8kSkSDtMkHp7",
    "outputId": "543583a0-37d0-46c3-d4ab-8d5419e9273c"
   },
   "outputs": [],
   "source": [
    "print(route('A','K'))\n",
    "print(\"hello\")\n"
   ]
  },
  {
   "cell_type": "code",
   "execution_count": null,
   "metadata": {},
   "outputs": [],
   "source": []
  },
  {
   "cell_type": "code",
   "execution_count": null,
   "metadata": {},
   "outputs": [],
   "source": []
  }
 ],
 "metadata": {
  "colab": {
   "name": "AI Ware House Automation using Q Learning.ipynb",
   "provenance": []
  },
  "kernelspec": {
   "display_name": "Python 3",
   "language": "python",
   "name": "python3"
  },
  "language_info": {
   "codemirror_mode": {
    "name": "ipython",
    "version": 3
   },
   "file_extension": ".py",
   "mimetype": "text/x-python",
   "name": "python",
   "nbconvert_exporter": "python",
   "pygments_lexer": "ipython3",
   "version": "3.7.4"
  }
 },
 "nbformat": 4,
 "nbformat_minor": 1
}
